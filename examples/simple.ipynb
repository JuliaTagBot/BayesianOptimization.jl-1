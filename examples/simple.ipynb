version https://git-lfs.github.com/spec/v1
oid sha256:38d079a2f5471e3d2ef1f080dc862bb2bc927156aff1a4fed73638f793c896f0
size 1065290
